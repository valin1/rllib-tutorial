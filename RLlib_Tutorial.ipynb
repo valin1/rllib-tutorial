{
  "nbformat": 4,
  "nbformat_minor": 0,
  "metadata": {
    "colab": {
      "name": "RLlib Tutorial",
      "provenance": [],
      "include_colab_link": true
    },
    "hide_code_all_hidden": false,
    "kernelspec": {
      "display_name": "Python 3",
      "language": "python",
      "name": "python3"
    },
    "language_info": {
      "codemirror_mode": {
        "name": "ipython",
        "version": 3
      },
      "file_extension": ".py",
      "mimetype": "text/x-python",
      "name": "python",
      "nbconvert_exporter": "python",
      "pygments_lexer": "ipython3",
      "version": "3.7.4"
    }
  },
  "cells": [
    {
      "cell_type": "markdown",
      "metadata": {
        "id": "view-in-github",
        "colab_type": "text"
      },
      "source": [
        "<a href=\"https://colab.research.google.com/github/valin1/rllib-tutorial/blob/master/RLlib_Tutorial.ipynb\" target=\"_parent\"><img src=\"https://colab.research.google.com/assets/colab-badge.svg\" alt=\"Open In Colab\"/></a>"
      ]
    },
    {
      "cell_type": "markdown",
      "metadata": {
        "colab_type": "text",
        "id": "7ghlHAH0Nlhi"
      },
      "source": [
        "# Install Dependencies\n",
        "\n",
        "If you are running on Google Colab, you need to install the necessary dependencies before beginning the exercise."
      ]
    },
    {
      "cell_type": "code",
      "metadata": {
        "colab_type": "code",
        "id": "tHNPcnXPNlhj",
        "outputId": "ec47b79a-4066-4371-8361-54945d2a3286",
        "colab": {
          "base_uri": "https://localhost:8080/",
          "height": 1000
        }
      },
      "source": [
        "print('NOTE: Intentionally crashing session to use the newly installed library.\\n')\n",
        "\n",
        "!pip uninstall -y pyarrow\n",
        "!pip install ray[debug]==0.7.5\n",
        "!pip install bs4\n",
        "\n",
        "!git clone https://github.com/ray-project/tutorial || true\n",
        "from tutorial.rllib_exercises import test_exercises\n",
        "\n",
        "print(\"Successfully installed all the dependencies!\")\n",
        "\n",
        "# A hack to force the runtime to restart, needed to include the above dependencies.\n",
        "import os\n",
        "os._exit(0)"
      ],
      "execution_count": 0,
      "outputs": [
        {
          "output_type": "stream",
          "text": [
            "NOTE: Intentionally crashing session to use the newly installed library.\n",
            "\n",
            "Uninstalling pyarrow-0.14.1:\n",
            "  Successfully uninstalled pyarrow-0.14.1\n",
            "Collecting ray[debug]==0.7.5\n",
            "\u001b[?25l  Downloading https://files.pythonhosted.org/packages/9b/e7/37a7f8dc2b1f96c760a3950d8bb5a3f14066f1699f5d004f0f6462d880c9/ray-0.7.5-cp36-cp36m-manylinux1_x86_64.whl (74.9MB)\n",
            "\u001b[K     |████████████████████████████████| 74.9MB 1.2MB/s \n",
            "\u001b[?25hRequirement already satisfied: numpy>=1.14 in /usr/local/lib/python3.6/dist-packages (from ray[debug]==0.7.5) (1.16.5)\n",
            "Requirement already satisfied: pyyaml in /usr/local/lib/python3.6/dist-packages (from ray[debug]==0.7.5) (3.13)\n",
            "Collecting redis>=3.3.2 (from ray[debug]==0.7.5)\n",
            "\u001b[?25l  Downloading https://files.pythonhosted.org/packages/32/ae/28613a62eea0d53d3db3147f8715f90da07667e99baeedf1010eb400f8c0/redis-3.3.11-py2.py3-none-any.whl (66kB)\n",
            "\u001b[K     |████████████████████████████████| 71kB 20.4MB/s \n",
            "\u001b[?25hRequirement already satisfied: six>=1.0.0 in /usr/local/lib/python3.6/dist-packages (from ray[debug]==0.7.5) (1.12.0)\n",
            "Requirement already satisfied: filelock in /usr/local/lib/python3.6/dist-packages (from ray[debug]==0.7.5) (3.0.12)\n",
            "Requirement already satisfied: pytest in /usr/local/lib/python3.6/dist-packages (from ray[debug]==0.7.5) (3.6.4)\n",
            "Collecting funcsigs (from ray[debug]==0.7.5)\n",
            "  Downloading https://files.pythonhosted.org/packages/69/cb/f5be453359271714c01b9bd06126eaf2e368f1fddfff30818754b5ac2328/funcsigs-1.0.2-py2.py3-none-any.whl\n",
            "Collecting colorama (from ray[debug]==0.7.5)\n",
            "  Downloading https://files.pythonhosted.org/packages/4f/a6/728666f39bfff1719fc94c481890b2106837da9318031f71a8424b662e12/colorama-0.4.1-py2.py3-none-any.whl\n",
            "Collecting protobuf>=3.8.0 (from ray[debug]==0.7.5)\n",
            "\u001b[?25l  Downloading https://files.pythonhosted.org/packages/a8/52/d8d2dbff74b8bf517c42db8d44c3f9ef6555e6f5d6caddfa3f207b9143df/protobuf-3.10.0-cp36-cp36m-manylinux1_x86_64.whl (1.3MB)\n",
            "\u001b[K     |████████████████████████████████| 1.3MB 33.5MB/s \n",
            "\u001b[?25hRequirement already satisfied: jsonschema in /usr/local/lib/python3.6/dist-packages (from ray[debug]==0.7.5) (2.6.0)\n",
            "Requirement already satisfied: click in /usr/local/lib/python3.6/dist-packages (from ray[debug]==0.7.5) (7.0)\n",
            "Requirement already satisfied: psutil; extra == \"debug\" in /usr/local/lib/python3.6/dist-packages (from ray[debug]==0.7.5) (5.4.8)\n",
            "Collecting setproctitle; extra == \"debug\" (from ray[debug]==0.7.5)\n",
            "  Downloading https://files.pythonhosted.org/packages/5a/0d/dc0d2234aacba6cf1a729964383e3452c52096dc695581248b548786f2b3/setproctitle-1.1.10.tar.gz\n",
            "Collecting py-spy; extra == \"debug\" (from ray[debug]==0.7.5)\n",
            "\u001b[?25l  Downloading https://files.pythonhosted.org/packages/1b/49/7cea4c6ddcec7bf944c0508f480a25c9c309c6e5b96039e3aff33a579509/py_spy-0.2.2-py2.py3-none-manylinux1_x86_64.whl (2.8MB)\n",
            "\u001b[K     |████████████████████████████████| 2.8MB 51.5MB/s \n",
            "\u001b[?25hRequirement already satisfied: pluggy<0.8,>=0.5 in /usr/local/lib/python3.6/dist-packages (from pytest->ray[debug]==0.7.5) (0.7.1)\n",
            "Requirement already satisfied: setuptools in /usr/local/lib/python3.6/dist-packages (from pytest->ray[debug]==0.7.5) (41.2.0)\n",
            "Requirement already satisfied: py>=1.5.0 in /usr/local/lib/python3.6/dist-packages (from pytest->ray[debug]==0.7.5) (1.8.0)\n",
            "Requirement already satisfied: atomicwrites>=1.0 in /usr/local/lib/python3.6/dist-packages (from pytest->ray[debug]==0.7.5) (1.3.0)\n",
            "Requirement already satisfied: more-itertools>=4.0.0 in /usr/local/lib/python3.6/dist-packages (from pytest->ray[debug]==0.7.5) (7.2.0)\n",
            "Requirement already satisfied: attrs>=17.4.0 in /usr/local/lib/python3.6/dist-packages (from pytest->ray[debug]==0.7.5) (19.2.0)\n",
            "Building wheels for collected packages: setproctitle\n",
            "  Building wheel for setproctitle (setup.py) ... \u001b[?25l\u001b[?25hdone\n",
            "  Created wheel for setproctitle: filename=setproctitle-1.1.10-cp36-cp36m-linux_x86_64.whl size=33936 sha256=b797e42ddd49d22bd5cd060b96c754e1ca8c4104d6347c9ece49e8d1464a466f\n",
            "  Stored in directory: /root/.cache/pip/wheels/e6/b1/a6/9719530228e258eba904501fef99d5d85c80d52bd8f14438a3\n",
            "Successfully built setproctitle\n",
            "Installing collected packages: redis, funcsigs, colorama, protobuf, setproctitle, py-spy, ray\n",
            "  Found existing installation: protobuf 3.7.1\n",
            "    Uninstalling protobuf-3.7.1:\n",
            "      Successfully uninstalled protobuf-3.7.1\n",
            "Successfully installed colorama-0.4.1 funcsigs-1.0.2 protobuf-3.10.0 py-spy-0.2.2 ray-0.7.5 redis-3.3.11 setproctitle-1.1.10\n"
          ],
          "name": "stdout"
        },
        {
          "output_type": "display_data",
          "data": {
            "application/vnd.colab-display-data+json": {
              "pip_warning": {
                "packages": [
                  "google"
                ]
              }
            }
          },
          "metadata": {
            "tags": []
          }
        },
        {
          "output_type": "stream",
          "text": [
            "Requirement already satisfied: bs4 in /usr/local/lib/python3.6/dist-packages (0.0.1)\n",
            "Requirement already satisfied: beautifulsoup4 in /usr/local/lib/python3.6/dist-packages (from bs4) (4.6.3)\n",
            "Cloning into 'tutorial'...\n",
            "remote: Enumerating objects: 36, done.\u001b[K\n",
            "remote: Counting objects: 100% (36/36), done.\u001b[K\n",
            "remote: Compressing objects: 100% (30/30), done.\u001b[K\n",
            "remote: Total 884 (delta 16), reused 14 (delta 6), pack-reused 848\u001b[K\n",
            "Receiving objects: 100% (884/884), 31.13 MiB | 22.95 MiB/s, done.\n",
            "Resolving deltas: 100% (481/481), done.\n"
          ],
          "name": "stdout"
        }
      ]
    },
    {
      "cell_type": "markdown",
      "metadata": {
        "colab_type": "text",
        "hideCode": false,
        "hidePrompt": false,
        "id": "bAptEafKNlhm"
      },
      "source": [
        "# RL Exercise - Markov Decision Processes\n",
        "\n",
        "**GOAL:** The goal of the exercise is to introduce the Markov Decision Process abstraction and to show how to use Markov Decision Processes in Python.\n",
        "\n",
        "**The key abstraction in reinforcement learning is the Markov decision process (MDP).** An MDP models sequential interactions with an external environment. It consists of the following:\n",
        "- a **state space**\n",
        "- a set of **actions**\n",
        "- a **transition function** which describes the probability of being in a state $s'$ at time $t+1$ given that the MDP was in state $s$ at time $t$ and action $a$ was taken\n",
        "- a **reward function**, which determines the reward received at time $t$\n",
        "- a **discount factor** $\\gamma$\n",
        "\n",
        "More details are available [here](https://en.wikipedia.org/wiki/Markov_decision_process).\n",
        "\n",
        "**NOTE:** Reinforcement learning algorithms are often applied to problems that don't strictly fit into the MDP framework. In particular, situations in which the state of the environment is not fully observed lead to violations of the MDP assumption. Nevertheless, RL algorithms can be applied anyway.\n",
        "\n",
        "## Policies\n",
        "\n",
        "A **policy** is a function that takes in a **state** and returns an **action**. A policy may be stochastic (i.e., it may sample from a probability distribution) or it can be deterministic.\n",
        "\n",
        "The **goal of reinforcement learning** is to learn a **policy** for maximizing the cumulative reward in an MDP. That is, we wish to find a policy $\\pi$ which solves the following optimization problem\n",
        "\n",
        "\\begin{equation}\n",
        "\\arg\\max_{\\pi} \\sum_{t=1}^T \\gamma^t R_t(\\pi),\n",
        "\\end{equation}\n",
        "\n",
        "where $T$ is the number of steps taken in the MDP (this is a random variable and may depend on $\\pi$) and $R_t$ is the reward received at time $t$ (also a random variable which depends on $\\pi$).\n",
        "\n",
        "A number of algorithms are available for solving reinforcement learning problems. Several of the most widely known are [value iteration](https://en.wikipedia.org/wiki/Markov_decision_process#Value_iteration), [policy iteration](https://en.wikipedia.org/wiki/Markov_decision_process#Policy_iteration), and [Q learning](https://en.wikipedia.org/wiki/Q-learning).\n",
        "\n",
        "## RL in Python\n",
        "\n",
        "The `gym` Python module provides MDP interfaces to a variety of simulators. For example, the CartPole environment interfaces with a simple simulator which simulates the physics of balancing a pole on a cart. The CartPole problem is described at https://gym.openai.com/envs/CartPole-v0. This example fits into the MDP framework as follows.\n",
        "- The **state** consists of the position and velocity of the cart as well as the angle and angular velocity of the pole that is balancing on the cart.\n",
        "- The **actions** are to decrease or increase the cart's velocity by one unit.\n",
        "- The **transition function** is deterministic and is determined by simulating physical laws.\n",
        "- The **reward function** is a constant 1 as long as the pole is upright, and 0 once the pole has fallen over. Therefore, maximizing the reward means balancing the pole for as long as possible.\n",
        "- The **discount factor** in this case can be taken to be 1.\n",
        "\n",
        "More information about the `gym` Python module is available at https://gym.openai.com/."
      ]
    },
    {
      "cell_type": "code",
      "metadata": {
        "colab_type": "code",
        "id": "a9Kwo5ZfNlhn",
        "colab": {}
      },
      "source": [
        "from __future__ import absolute_import\n",
        "from __future__ import division\n",
        "from __future__ import print_function\n",
        "\n",
        "import gym\n",
        "import numpy as np"
      ],
      "execution_count": 0,
      "outputs": []
    },
    {
      "cell_type": "markdown",
      "metadata": {
        "colab_type": "text",
        "id": "WPpofaxQNlhp"
      },
      "source": [
        "The code below illustrates how to create and manipulate MDPs in Python. An MDP can be created by calling `gym.make`. Gym environments are identified by names like `CartPole-v0`. A **catalog of built-in environments** can be found at https://gym.openai.com/envs."
      ]
    },
    {
      "cell_type": "code",
      "metadata": {
        "colab_type": "code",
        "hideCode": false,
        "hidePrompt": false,
        "id": "6DZ68SG9Nlhp",
        "outputId": "74cfa829-d029-4a72-adb2-8dda00f74891",
        "colab": {
          "base_uri": "https://localhost:8080/",
          "height": 34
        }
      },
      "source": [
        "env = gym.make('CartPole-v0')\n",
        "print('Created env:', env)"
      ],
      "execution_count": 0,
      "outputs": [
        {
          "output_type": "stream",
          "text": [
            "Created env: <TimeLimit<CartPoleEnv<CartPole-v0>>>\n"
          ],
          "name": "stdout"
        }
      ]
    },
    {
      "cell_type": "markdown",
      "metadata": {
        "colab_type": "text",
        "id": "Xn5PqgDzNlhr"
      },
      "source": [
        "Reset the state of the MDP by calling `env.reset()`. This call returns the initial state of the MDP."
      ]
    },
    {
      "cell_type": "code",
      "metadata": {
        "colab_type": "code",
        "hideCode": false,
        "hidePrompt": false,
        "id": "zRA58dOFNlhs",
        "outputId": "00b02c96-d59d-4f67-af7d-3c0ec0536f41",
        "colab": {
          "base_uri": "https://localhost:8080/",
          "height": 34
        }
      },
      "source": [
        "state = env.reset()\n",
        "print('The starting state is:', state)"
      ],
      "execution_count": 0,
      "outputs": [
        {
          "output_type": "stream",
          "text": [
            "The starting state is: [ 0.03192058  0.03550393 -0.04973072 -0.0396154 ]\n"
          ],
          "name": "stdout"
        }
      ]
    },
    {
      "cell_type": "markdown",
      "metadata": {
        "colab_type": "text",
        "id": "8MuXXesWNlhu"
      },
      "source": [
        "The `env.step` method takes an action (in the case of the CartPole environment, the appropriate actions are 0 or 1, for moving left or right). It returns a tuple of four things:\n",
        "1. the new state of the environment\n",
        "2. a reward\n",
        "3. a boolean indicating whether the simulation has finished\n",
        "4. a dictionary of miscellaneous extra information"
      ]
    },
    {
      "cell_type": "code",
      "metadata": {
        "colab_type": "code",
        "hideCode": false,
        "hidePrompt": false,
        "id": "TufVaMz_Nlhu",
        "outputId": "fa429faa-e441-4f71-a1e3-6779f8fb7e86",
        "colab": {
          "base_uri": "https://localhost:8080/",
          "height": 34
        }
      },
      "source": [
        "# Simulate taking an action in the environment. Appropriate actions for\n",
        "# the CartPole environment are 0 and 1 (for moving left and right).\n",
        "action = 0\n",
        "state, reward, done, info = env.step(action)\n",
        "print(state, reward, done, info)"
      ],
      "execution_count": 0,
      "outputs": [
        {
          "output_type": "stream",
          "text": [
            "[ 0.03263066 -0.15887092 -0.05052303  0.2369716 ] 1.0 False {}\n"
          ],
          "name": "stdout"
        }
      ]
    },
    {
      "cell_type": "markdown",
      "metadata": {
        "colab_type": "text",
        "id": "uBIoIuWYNlhw"
      },
      "source": [
        "A **rollout** is a simulation of a policy in an environment. It alternates between choosing actions based (using some policy) and taking those actions in the environment.\n",
        "\n",
        "The code below performs a rollout in a given environment. It takes **random actions** until the simulation has finished and returns the cumulative reward."
      ]
    },
    {
      "cell_type": "code",
      "metadata": {
        "colab_type": "code",
        "id": "Zp00mr88Nlhw",
        "outputId": "b31b55eb-f918-4684-cb5b-f7f547f95751",
        "colab": {
          "base_uri": "https://localhost:8080/",
          "height": 51
        }
      },
      "source": [
        "def random_rollout(env):\n",
        "    state = env.reset()\n",
        "    \n",
        "    done = False\n",
        "    cumulative_reward = 0\n",
        "\n",
        "    # Keep looping as long as the simulation has not finished.\n",
        "    while not done:\n",
        "        # Choose a random action (either 0 or 1).\n",
        "        action = np.random.choice([0, 1])\n",
        "        \n",
        "        # Take the action in the environment.\n",
        "        state, reward, done, _ = env.step(action)\n",
        "        \n",
        "        # Update the cumulative reward.\n",
        "        cumulative_reward += reward\n",
        "    \n",
        "    # Return the cumulative reward.\n",
        "    return cumulative_reward\n",
        "    \n",
        "reward = random_rollout(env)\n",
        "print(reward)\n",
        "reward = random_rollout(env)\n",
        "print(reward)"
      ],
      "execution_count": 0,
      "outputs": [
        {
          "output_type": "stream",
          "text": [
            "16.0\n",
            "24.0\n"
          ],
          "name": "stdout"
        }
      ]
    },
    {
      "cell_type": "markdown",
      "metadata": {
        "colab_type": "text",
        "id": "i3FVvEJRNlhy"
      },
      "source": [
        "**EXERCISE:** Finish implementing the `rollout_policy` function below, which should take an environment *and* a policy. The *policy* is a function that takes in a *state* and returns an *action*. The main difference is that instead of choosing a **random action**, the action should be chosen **with the policy** (as a function of the state)."
      ]
    },
    {
      "cell_type": "code",
      "metadata": {
        "colab_type": "code",
        "id": "9PgmkROqNlhy",
        "outputId": "741955f5-29d8-4237-c9f5-36eb4bb9a90c",
        "colab": {
          "base_uri": "https://localhost:8080/",
          "height": 51
        }
      },
      "source": [
        "def rollout_policy(env, policy):\n",
        "    state = env.reset()\n",
        "    \n",
        "    done = False\n",
        "    cumulative_reward = 0\n",
        "\n",
        "    # EXERCISE: Fill out this function by copying the 'random_rollout' function\n",
        "    # and then modifying it to choose the action using the policy.\n",
        "    # Keep looping as long as the simulation has not finished.\n",
        "    while not done:\n",
        "        # Choose a random action (either 0 or 1).\n",
        "        action = policy(state)\n",
        "        \n",
        "        # Take the action in the environment.\n",
        "        state, reward, done, _ = env.step(action)\n",
        "        \n",
        "        # Update the cumulative reward.\n",
        "        cumulative_reward += reward\n",
        "\n",
        "    # Return the cumulative reward.\n",
        "    return cumulative_reward\n",
        "\n",
        "def sample_policy1(state):\n",
        "    return 0 if state[0] < 0 else 1\n",
        "\n",
        "def sample_policy2(state):\n",
        "    return 1 if state[0] < 0 else 0\n",
        "\n",
        "reward1 = np.mean([rollout_policy(env, sample_policy1) for _ in range(100)])\n",
        "reward2 = np.mean([rollout_policy(env, sample_policy2) for _ in range(100)])\n",
        "\n",
        "print('The first sample policy got an average reward of {}.'.format(reward1))\n",
        "print('The second sample policy got an average reward of {}.'.format(reward2))\n",
        "\n",
        "assert 5 < reward1 < 15, ('Make sure that rollout_policy computes the action '\n",
        "                          'by applying the policy to the state.')\n",
        "assert 25 < reward2 < 35, ('Make sure that rollout_policy computes the action '\n",
        "                           'by applying the policy to the state.')"
      ],
      "execution_count": 0,
      "outputs": [
        {
          "output_type": "stream",
          "text": [
            "The first sample policy got an average reward of 9.4.\n",
            "The second sample policy got an average reward of 30.3.\n"
          ],
          "name": "stdout"
        }
      ]
    },
    {
      "cell_type": "markdown",
      "metadata": {
        "colab_type": "text",
        "id": "qXQ8hIB9Nlh0"
      },
      "source": [
        "# RLlib Exercise 1 - Proximal Policy Optimization\n",
        "\n",
        "**GOAL:** The goal of this exercise is to demonstrate how to use the proximal policy optimization (PPO) algorithm.\n",
        "\n",
        "To understand how to use **RLlib**, see the documentation at http://rllib.io.\n",
        "\n",
        "PPO is described in detail in https://arxiv.org/abs/1707.06347. It is a variant of Trust Region Policy Optimization (TRPO) described in https://arxiv.org/abs/1502.05477\n",
        "\n",
        "PPO works in two phases. In one phase, a large number of rollouts are performed (in parallel). The rollouts are then aggregated on the driver and a surrogate optimization objective is defined based on those rollouts. We then use SGD to find the policy that maximizes that objective with a penalty term for diverging too much from the current policy.\n",
        "\n",
        "![ppo](https://raw.githubusercontent.com/ucbrise/risecamp/risecamp2018/ray/tutorial/rllib_exercises/ppo.png)\n",
        "\n",
        "**NOTE:** The SGD optimization step is best performed in a data-parallel manner over multiple GPUs. This is exposed through the `num_gpus` field of the `config` dictionary (for this to work, you must be using a machine that has GPUs)."
      ]
    },
    {
      "cell_type": "code",
      "metadata": {
        "colab_type": "code",
        "id": "d_Luh2OENlh0",
        "outputId": "1e760b04-951e-43eb-a1c8-9c05748bbe2a",
        "colab": {
          "base_uri": "https://localhost:8080/",
          "height": 700
        }
      },
      "source": [
        "# Be sure to install the latest version of RLlib.\n",
        "! pip install -U ray[rllib]"
      ],
      "execution_count": 0,
      "outputs": [
        {
          "output_type": "stream",
          "text": [
            "Requirement already up-to-date: ray[rllib] in /usr/local/lib/python3.6/dist-packages (0.7.5)\n",
            "Requirement already satisfied, skipping upgrade: pyyaml in /usr/local/lib/python3.6/dist-packages (from ray[rllib]) (3.13)\n",
            "Requirement already satisfied, skipping upgrade: colorama in /usr/local/lib/python3.6/dist-packages (from ray[rllib]) (0.4.1)\n",
            "Requirement already satisfied, skipping upgrade: click in /usr/local/lib/python3.6/dist-packages (from ray[rllib]) (7.0)\n",
            "Requirement already satisfied, skipping upgrade: jsonschema in /usr/local/lib/python3.6/dist-packages (from ray[rllib]) (2.6.0)\n",
            "Requirement already satisfied, skipping upgrade: pytest in /usr/local/lib/python3.6/dist-packages (from ray[rllib]) (3.6.4)\n",
            "Requirement already satisfied, skipping upgrade: funcsigs in /usr/local/lib/python3.6/dist-packages (from ray[rllib]) (1.0.2)\n",
            "Requirement already satisfied, skipping upgrade: redis>=3.3.2 in /usr/local/lib/python3.6/dist-packages (from ray[rllib]) (3.3.11)\n",
            "Requirement already satisfied, skipping upgrade: six>=1.0.0 in /usr/local/lib/python3.6/dist-packages (from ray[rllib]) (1.12.0)\n",
            "Requirement already satisfied, skipping upgrade: protobuf>=3.8.0 in /usr/local/lib/python3.6/dist-packages (from ray[rllib]) (3.10.0)\n",
            "Requirement already satisfied, skipping upgrade: numpy>=1.14 in /usr/local/lib/python3.6/dist-packages (from ray[rllib]) (1.16.5)\n",
            "Requirement already satisfied, skipping upgrade: filelock in /usr/local/lib/python3.6/dist-packages (from ray[rllib]) (3.0.12)\n",
            "Requirement already satisfied, skipping upgrade: scipy; extra == \"rllib\" in /usr/local/lib/python3.6/dist-packages (from ray[rllib]) (1.3.1)\n",
            "Collecting lz4; extra == \"rllib\" (from ray[rllib])\n",
            "\u001b[?25l  Downloading https://files.pythonhosted.org/packages/5d/5e/cedd32c203ce0303188b0c7ff8388bba3c33e4bf6da21ae789962c4fb2e7/lz4-2.2.1-cp36-cp36m-manylinux1_x86_64.whl (395kB)\n",
            "\u001b[K     |████████████████████████████████| 399kB 9.1MB/s \n",
            "\u001b[?25hCollecting opencv-python-headless; extra == \"rllib\" (from ray[rllib])\n",
            "\u001b[?25l  Downloading https://files.pythonhosted.org/packages/1f/dc/b250f03ab68068033fd2356428c1357431d8ebc6a26405098e0f27c94f7a/opencv_python_headless-4.1.1.26-cp36-cp36m-manylinux1_x86_64.whl (22.1MB)\n",
            "\u001b[K     |████████████████████████████████| 22.1MB 43.0MB/s \n",
            "\u001b[?25hRequirement already satisfied, skipping upgrade: gym[atari]; extra == \"rllib\" in /usr/local/lib/python3.6/dist-packages (from ray[rllib]) (0.10.11)\n",
            "Requirement already satisfied, skipping upgrade: pluggy<0.8,>=0.5 in /usr/local/lib/python3.6/dist-packages (from pytest->ray[rllib]) (0.7.1)\n",
            "Requirement already satisfied, skipping upgrade: more-itertools>=4.0.0 in /usr/local/lib/python3.6/dist-packages (from pytest->ray[rllib]) (7.2.0)\n",
            "Requirement already satisfied, skipping upgrade: attrs>=17.4.0 in /usr/local/lib/python3.6/dist-packages (from pytest->ray[rllib]) (19.2.0)\n",
            "Requirement already satisfied, skipping upgrade: setuptools in /usr/local/lib/python3.6/dist-packages (from pytest->ray[rllib]) (41.2.0)\n",
            "Requirement already satisfied, skipping upgrade: py>=1.5.0 in /usr/local/lib/python3.6/dist-packages (from pytest->ray[rllib]) (1.8.0)\n",
            "Requirement already satisfied, skipping upgrade: atomicwrites>=1.0 in /usr/local/lib/python3.6/dist-packages (from pytest->ray[rllib]) (1.3.0)\n",
            "Requirement already satisfied, skipping upgrade: requests>=2.0 in /usr/local/lib/python3.6/dist-packages (from gym[atari]; extra == \"rllib\"->ray[rllib]) (2.21.0)\n",
            "Requirement already satisfied, skipping upgrade: pyglet>=1.2.0 in /usr/local/lib/python3.6/dist-packages (from gym[atari]; extra == \"rllib\"->ray[rllib]) (1.4.4)\n",
            "Requirement already satisfied, skipping upgrade: Pillow; extra == \"atari\" in /usr/local/lib/python3.6/dist-packages (from gym[atari]; extra == \"rllib\"->ray[rllib]) (4.3.0)\n",
            "Requirement already satisfied, skipping upgrade: PyOpenGL; extra == \"atari\" in /usr/local/lib/python3.6/dist-packages (from gym[atari]; extra == \"rllib\"->ray[rllib]) (3.1.0)\n",
            "Requirement already satisfied, skipping upgrade: atari-py>=0.1.4; extra == \"atari\" in /usr/local/lib/python3.6/dist-packages (from gym[atari]; extra == \"rllib\"->ray[rllib]) (0.1.15)\n",
            "Requirement already satisfied, skipping upgrade: certifi>=2017.4.17 in /usr/local/lib/python3.6/dist-packages (from requests>=2.0->gym[atari]; extra == \"rllib\"->ray[rllib]) (2019.9.11)\n",
            "Requirement already satisfied, skipping upgrade: chardet<3.1.0,>=3.0.2 in /usr/local/lib/python3.6/dist-packages (from requests>=2.0->gym[atari]; extra == \"rllib\"->ray[rllib]) (3.0.4)\n",
            "Requirement already satisfied, skipping upgrade: idna<2.9,>=2.5 in /usr/local/lib/python3.6/dist-packages (from requests>=2.0->gym[atari]; extra == \"rllib\"->ray[rllib]) (2.8)\n",
            "Requirement already satisfied, skipping upgrade: urllib3<1.25,>=1.21.1 in /usr/local/lib/python3.6/dist-packages (from requests>=2.0->gym[atari]; extra == \"rllib\"->ray[rllib]) (1.24.3)\n",
            "Requirement already satisfied, skipping upgrade: future in /usr/local/lib/python3.6/dist-packages (from pyglet>=1.2.0->gym[atari]; extra == \"rllib\"->ray[rllib]) (0.16.0)\n",
            "Requirement already satisfied, skipping upgrade: olefile in /usr/local/lib/python3.6/dist-packages (from Pillow; extra == \"atari\"->gym[atari]; extra == \"rllib\"->ray[rllib]) (0.46)\n",
            "Installing collected packages: lz4, opencv-python-headless\n",
            "Successfully installed lz4-2.2.1 opencv-python-headless-4.1.1.26\n"
          ],
          "name": "stdout"
        }
      ]
    },
    {
      "cell_type": "code",
      "metadata": {
        "colab_type": "code",
        "id": "XwPnR2ibNlh2",
        "colab": {}
      },
      "source": [
        "from __future__ import absolute_import\n",
        "from __future__ import division\n",
        "from __future__ import print_function\n",
        "\n",
        "import gym\n",
        "import ray\n",
        "from ray.rllib.agents.ppo import PPOTrainer, DEFAULT_CONFIG\n",
        "from ray.tune.logger import pretty_print"
      ],
      "execution_count": 0,
      "outputs": []
    },
    {
      "cell_type": "code",
      "metadata": {
        "colab_type": "code",
        "id": "tQFzEX2BNlh3",
        "outputId": "f26d497d-c19f-4f4d-fdb5-844d9a49dc43",
        "colab": {
          "base_uri": "https://localhost:8080/",
          "height": 156
        }
      },
      "source": [
        "# Start up Ray. This must be done before we instantiate any RL agents.\n",
        "ray.init(num_cpus=3, ignore_reinit_error=True, log_to_driver=False)"
      ],
      "execution_count": 0,
      "outputs": [
        {
          "output_type": "stream",
          "text": [
            "2019-10-17 17:54:06,994\tINFO resource_spec.py:205 -- Starting Ray with 6.05 GiB memory available for workers and up to 3.05 GiB for objects. You can adjust these settings with ray.init(memory=<bytes>, object_store_memory=<bytes>).\n"
          ],
          "name": "stderr"
        },
        {
          "output_type": "execute_result",
          "data": {
            "text/plain": [
              "{'node_ip_address': '172.28.0.2',\n",
              " 'object_store_address': '/tmp/ray/session_2019-10-17_17-54-06_993248_226/sockets/plasma_store',\n",
              " 'raylet_socket_name': '/tmp/ray/session_2019-10-17_17-54-06_993248_226/sockets/raylet',\n",
              " 'redis_address': '172.28.0.2:25628',\n",
              " 'session_dir': '/tmp/ray/session_2019-10-17_17-54-06_993248_226',\n",
              " 'webui_url': None}"
            ]
          },
          "metadata": {
            "tags": []
          },
          "execution_count": 10
        }
      ]
    },
    {
      "cell_type": "markdown",
      "metadata": {
        "colab_type": "text",
        "id": "f9yhpJZVNlh5"
      },
      "source": [
        "Instantiate a PPOTrainer object. We pass in a config object that specifies how the network and training procedure should be configured. Some of the parameters are the following.\n",
        "\n",
        "- `num_workers` is the number of actors that the agent will create. This determines the degree of parallelism that will be used.\n",
        "- `num_sgd_iter` is the number of epochs of SGD (passes through the data) that will be used to optimize the PPO surrogate objective at each iteration of PPO.\n",
        "- `sgd_minibatch_size` is the SGD batch size that will be used to optimize the PPO surrogate objective.\n",
        "- `model` contains a dictionary of parameters describing the neural net used to parameterize the policy. The `fcnet_hiddens` parameter is a list of the sizes of the hidden layers."
      ]
    },
    {
      "cell_type": "code",
      "metadata": {
        "colab_type": "code",
        "id": "Ok210MCfNlh5",
        "outputId": "3f2c7213-c358-4ffc-e3df-9b8cc439cd6b",
        "colab": {
          "base_uri": "https://localhost:8080/",
          "height": 139
        }
      },
      "source": [
        "config = DEFAULT_CONFIG.copy()\n",
        "config['num_workers'] = 1\n",
        "config['num_sgd_iter'] = 30\n",
        "config['sgd_minibatch_size'] = 128\n",
        "config['model']['fcnet_hiddens'] = [100, 100]\n",
        "config['num_cpus_per_worker'] = 0  # This avoids running out of resources in the notebook environment when this cell is re-executed\n",
        "\n",
        "agent = PPOTrainer(config, 'CartPole-v0')"
      ],
      "execution_count": 0,
      "outputs": [
        {
          "output_type": "stream",
          "text": [
            "2019-10-17 17:54:39,295\tINFO trainer.py:344 -- Tip: set 'eager': true or the --eager flag to enable TensorFlow eager execution\n",
            "2019-10-17 17:54:40,973\tINFO rollout_worker.py:768 -- Built policy map: {'default_policy': <ray.rllib.policy.tf_policy_template.PPOTFPolicy object at 0x7fea5c3df400>}\n",
            "2019-10-17 17:54:40,975\tINFO rollout_worker.py:769 -- Built preprocessor map: {'default_policy': <ray.rllib.models.preprocessors.NoPreprocessor object at 0x7fea5c3df160>}\n",
            "2019-10-17 17:54:40,976\tINFO rollout_worker.py:370 -- Built filter map: {'default_policy': <ray.rllib.utils.filter.NoFilter object at 0x7feb23f55828>}\n",
            "2019-10-17 17:54:41,009\tINFO multi_gpu_optimizer.py:93 -- LocalMultiGPUOptimizer devices ['/cpu:0']\n",
            "2019-10-17 17:54:45,150\tWARNING util.py:45 -- Install gputil for GPU system monitoring.\n"
          ],
          "name": "stderr"
        }
      ]
    },
    {
      "cell_type": "markdown",
      "metadata": {
        "colab_type": "text",
        "id": "Ty1a6AWVNlh7"
      },
      "source": [
        "Train the policy on the `CartPole-v0` environment for 2 steps. The CartPole problem is described at https://gym.openai.com/envs/CartPole-v0.\n",
        "\n",
        "**EXERCISE:** Inspect how well the policy is doing by looking for the lines that say something like\n",
        "\n",
        "```\n",
        "episode_len_mean: 22.262569832402235\n",
        "episode_reward_mean: 22.262569832402235\n",
        "```\n",
        "\n",
        "This indicates how much reward the policy is receiving and how many time steps of the environment the policy ran. The maximum possible reward for this problem is 200. The reward and trajectory length are very close because the agent receives a reward of one for every time step that it survives (however, that is specific to this environment)."
      ]
    },
    {
      "cell_type": "code",
      "metadata": {
        "colab_type": "code",
        "id": "3o0wjdZ3Nlh7",
        "outputId": "71f819d2-d580-4622-bfa4-3d1602d10ac4",
        "colab": {
          "base_uri": "https://localhost:8080/",
          "height": 1000
        }
      },
      "source": [
        "for i in range(2):\n",
        "    result = agent.train()\n",
        "    print(pretty_print(result))"
      ],
      "execution_count": 0,
      "outputs": [
        {
          "output_type": "stream",
          "text": [
            "2019-10-17 17:55:42,250\tINFO tf_policy.py:358 -- Optimizing variable <tf.Variable 'default_policy/fc_1/kernel:0' shape=(4, 100) dtype=float32>\n",
            "2019-10-17 17:55:42,255\tINFO tf_policy.py:358 -- Optimizing variable <tf.Variable 'default_policy/fc_1/bias:0' shape=(100,) dtype=float32>\n",
            "2019-10-17 17:55:42,256\tINFO tf_policy.py:358 -- Optimizing variable <tf.Variable 'default_policy/fc_value_1/kernel:0' shape=(4, 100) dtype=float32>\n",
            "2019-10-17 17:55:42,257\tINFO tf_policy.py:358 -- Optimizing variable <tf.Variable 'default_policy/fc_value_1/bias:0' shape=(100,) dtype=float32>\n",
            "2019-10-17 17:55:42,260\tINFO tf_policy.py:358 -- Optimizing variable <tf.Variable 'default_policy/fc_2/kernel:0' shape=(100, 100) dtype=float32>\n",
            "2019-10-17 17:55:42,262\tINFO tf_policy.py:358 -- Optimizing variable <tf.Variable 'default_policy/fc_2/bias:0' shape=(100,) dtype=float32>\n",
            "2019-10-17 17:55:42,264\tINFO tf_policy.py:358 -- Optimizing variable <tf.Variable 'default_policy/fc_value_2/kernel:0' shape=(100, 100) dtype=float32>\n",
            "2019-10-17 17:55:42,266\tINFO tf_policy.py:358 -- Optimizing variable <tf.Variable 'default_policy/fc_value_2/bias:0' shape=(100,) dtype=float32>\n",
            "2019-10-17 17:55:42,267\tINFO tf_policy.py:358 -- Optimizing variable <tf.Variable 'default_policy/fc_out/kernel:0' shape=(100, 2) dtype=float32>\n",
            "2019-10-17 17:55:42,277\tINFO tf_policy.py:358 -- Optimizing variable <tf.Variable 'default_policy/fc_out/bias:0' shape=(2,) dtype=float32>\n",
            "2019-10-17 17:55:42,278\tINFO tf_policy.py:358 -- Optimizing variable <tf.Variable 'default_policy/value_out/kernel:0' shape=(100, 1) dtype=float32>\n",
            "2019-10-17 17:55:42,279\tINFO tf_policy.py:358 -- Optimizing variable <tf.Variable 'default_policy/value_out/bias:0' shape=(1,) dtype=float32>\n",
            "2019-10-17 17:55:42,288\tINFO multi_gpu_impl.py:146 -- Training on concatenated sample batches:\n",
            "\n",
            "{ 'inputs': [ np.ndarray((4000,), dtype=int64, min=0.0, max=1.0, mean=0.459),\n",
            "              np.ndarray((4000,), dtype=float32, min=0.0, max=1.0, mean=0.955),\n",
            "              np.ndarray((4000, 4), dtype=float32, min=-2.392, max=2.469, mean=0.015),\n",
            "              np.ndarray((4000,), dtype=float32, min=-0.7, max=-0.687, mean=-0.693),\n",
            "              np.ndarray((4000,), dtype=int64, min=0.0, max=1.0, mean=0.482),\n",
            "              np.ndarray((4000,), dtype=float32, min=-1.209, max=4.915, mean=0.0),\n",
            "              np.ndarray((4000, 2), dtype=float32, min=-0.009, max=0.01, mean=-0.0),\n",
            "              np.ndarray((4000, 4), dtype=float32, min=-2.392, max=2.469, mean=0.015),\n",
            "              np.ndarray((4000,), dtype=int64, min=0.0, max=1.0, mean=0.459),\n",
            "              np.ndarray((4000,), dtype=float32, min=0.0, max=1.0, mean=0.955),\n",
            "              np.ndarray((4000,), dtype=float32, min=0.995, max=59.932, mean=12.627),\n",
            "              np.ndarray((4000,), dtype=float32, min=-0.006, max=0.006, mean=-0.0)],\n",
            "  'placeholders': [ <tf.Tensor 'default_policy/action:0' shape=(?,) dtype=int64>,\n",
            "                    <tf.Tensor 'default_policy/prev_reward:0' shape=(?,) dtype=float32>,\n",
            "                    <tf.Tensor 'default_policy/observation:0' shape=(?, 4) dtype=float32>,\n",
            "                    <tf.Tensor 'default_policy/action_logp:0' shape=(?,) dtype=float32>,\n",
            "                    <tf.Tensor 'default_policy/actions:0' shape=(?,) dtype=int64>,\n",
            "                    <tf.Tensor 'default_policy/advantages:0' shape=(?,) dtype=float32>,\n",
            "                    <tf.Tensor 'default_policy/behaviour_logits:0' shape=(?, 2) dtype=float32>,\n",
            "                    <tf.Tensor 'default_policy/observation:0' shape=(?, 4) dtype=float32>,\n",
            "                    <tf.Tensor 'default_policy/action:0' shape=(?,) dtype=int64>,\n",
            "                    <tf.Tensor 'default_policy/prev_reward:0' shape=(?,) dtype=float32>,\n",
            "                    <tf.Tensor 'default_policy/value_targets:0' shape=(?,) dtype=float32>,\n",
            "                    <tf.Tensor 'default_policy/vf_preds:0' shape=(?,) dtype=float32>],\n",
            "  'state_inputs': []}\n",
            "\n",
            "2019-10-17 17:55:42,292\tINFO multi_gpu_impl.py:191 -- Divided 4000 rollout sequences, each of length 1, among 1 devices.\n"
          ],
          "name": "stderr"
        },
        {
          "output_type": "stream",
          "text": [
            "custom_metrics: {}\n",
            "date: 2019-10-17_17-55-47\n",
            "done: false\n",
            "episode_len_mean: 22.08839779005525\n",
            "episode_reward_max: 91.0\n",
            "episode_reward_mean: 22.08839779005525\n",
            "episode_reward_min: 9.0\n",
            "episodes_this_iter: 181\n",
            "episodes_total: 181\n",
            "experiment_id: 72b87ab642c04632b54c6f2674cec748\n",
            "hostname: dfdd5ae0844a\n",
            "info:\n",
            "  grad_time_ms: 4964.206\n",
            "  learner:\n",
            "    default_policy:\n",
            "      cur_kl_coeff: 0.20000000298023224\n",
            "      cur_lr: 4.999999873689376e-05\n",
            "      entropy: 0.6622359156608582\n",
            "      entropy_coeff: 0.0\n",
            "      kl: 0.030930981040000916\n",
            "      policy_loss: -0.04017391800880432\n",
            "      total_loss: 177.03761291503906\n",
            "      vf_explained_var: 0.02820538729429245\n",
            "      vf_loss: 177.07167053222656\n",
            "  load_time_ms: 130.711\n",
            "  num_steps_sampled: 4000\n",
            "  num_steps_trained: 3968\n",
            "  sample_time_ms: 5657.124\n",
            "  update_time_ms: 1293.891\n",
            "iterations_since_restore: 1\n",
            "node_ip: 172.28.0.2\n",
            "num_healthy_workers: 1\n",
            "off_policy_estimator: {}\n",
            "perf:\n",
            "  cpu_util_percent: 18.998876404494382\n",
            "  ram_util_percent: 11.026966292134833\n",
            "pid: 226\n",
            "policy_reward_max: {}\n",
            "policy_reward_mean: {}\n",
            "policy_reward_min: {}\n",
            "sampler_perf:\n",
            "  mean_env_wait_ms: 0.08466481506988366\n",
            "  mean_inference_ms: 1.0918041849934856\n",
            "  mean_processing_ms: 0.2003394195777837\n",
            "time_since_restore: 12.14347219467163\n",
            "time_this_iter_s: 12.14347219467163\n",
            "time_total_s: 12.14347219467163\n",
            "timestamp: 1571334947\n",
            "timesteps_since_restore: 4000\n",
            "timesteps_this_iter: 4000\n",
            "timesteps_total: 4000\n",
            "training_iteration: 1\n",
            "\n",
            "custom_metrics: {}\n",
            "date: 2019-10-17_17-55-56\n",
            "done: false\n",
            "episode_len_mean: 35.35398230088496\n",
            "episode_reward_max: 122.0\n",
            "episode_reward_mean: 35.35398230088496\n",
            "episode_reward_min: 10.0\n",
            "episodes_this_iter: 113\n",
            "episodes_total: 294\n",
            "experiment_id: 72b87ab642c04632b54c6f2674cec748\n",
            "hostname: dfdd5ae0844a\n",
            "info:\n",
            "  grad_time_ms: 4647.126\n",
            "  learner:\n",
            "    default_policy:\n",
            "      cur_kl_coeff: 0.30000001192092896\n",
            "      cur_lr: 4.999999873689376e-05\n",
            "      entropy: 0.6159852743148804\n",
            "      entropy_coeff: 0.0\n",
            "      kl: 0.01642696186900139\n",
            "      policy_loss: -0.02489154413342476\n",
            "      total_loss: 207.77236938476562\n",
            "      vf_explained_var: 0.04442136362195015\n",
            "      vf_loss: 207.7923126220703\n",
            "  load_time_ms: 66.358\n",
            "  num_steps_sampled: 8000\n",
            "  num_steps_trained: 7936\n",
            "  sample_time_ms: 5044.868\n",
            "  update_time_ms: 649.413\n",
            "iterations_since_restore: 2\n",
            "node_ip: 172.28.0.2\n",
            "num_healthy_workers: 1\n",
            "off_policy_estimator: {}\n",
            "perf:\n",
            "  cpu_util_percent: 69.51538461538462\n",
            "  ram_util_percent: 11.800000000000002\n",
            "pid: 226\n",
            "policy_reward_max: {}\n",
            "policy_reward_mean: {}\n",
            "policy_reward_min: {}\n",
            "sampler_perf:\n",
            "  mean_env_wait_ms: 0.08023266434118217\n",
            "  mean_inference_ms: 0.9749334106712305\n",
            "  mean_processing_ms: 0.17602264009525054\n",
            "time_since_restore: 20.922300100326538\n",
            "time_this_iter_s: 8.778827905654907\n",
            "time_total_s: 20.922300100326538\n",
            "timestamp: 1571334956\n",
            "timesteps_since_restore: 8000\n",
            "timesteps_this_iter: 4000\n",
            "timesteps_total: 8000\n",
            "training_iteration: 2\n",
            "\n"
          ],
          "name": "stdout"
        }
      ]
    },
    {
      "cell_type": "markdown",
      "metadata": {
        "colab_type": "text",
        "id": "FPdkWLrENlh9"
      },
      "source": [
        "**EXERCISE:** The current network and training configuration are too large and heavy-duty for a simple problem like CartPole. Modify the configuration to use a smaller network and to speed up the optimization of the surrogate objective (fewer SGD iterations and a larger batch size should help)."
      ]
    },
    {
      "cell_type": "code",
      "metadata": {
        "colab_type": "code",
        "id": "3lp6tqkNNlh9",
        "outputId": "55941a50-45f8-4aaf-f006-5c87c7fa6131",
        "colab": {
          "base_uri": "https://localhost:8080/",
          "height": 156
        }
      },
      "source": [
        "config = DEFAULT_CONFIG.copy()\n",
        "config['num_workers'] = 3\n",
        "config['num_sgd_iter'] = 15\n",
        "config['sgd_minibatch_size'] = 500\n",
        "config['model']['fcnet_hiddens'] = [100, 100]\n",
        "config['num_cpus_per_worker'] = 0\n",
        "\n",
        "agent = PPOTrainer(config, 'CartPole-v0')"
      ],
      "execution_count": 0,
      "outputs": [
        {
          "output_type": "stream",
          "text": [
            "2019-10-17 17:56:50,174\tINFO trainer.py:344 -- Tip: set 'eager': true or the --eager flag to enable TensorFlow eager execution\n",
            "2019-10-17 17:56:51,568\tINFO rollout_worker.py:768 -- Built policy map: {'default_policy': <ray.rllib.policy.tf_policy_template.PPOTFPolicy object at 0x7fea4c86e6d8>}\n",
            "2019-10-17 17:56:51,576\tINFO rollout_worker.py:769 -- Built preprocessor map: {'default_policy': <ray.rllib.models.preprocessors.NoPreprocessor object at 0x7fea4c8ddc50>}\n",
            "2019-10-17 17:56:51,577\tINFO rollout_worker.py:370 -- Built filter map: {'default_policy': <ray.rllib.utils.filter.NoFilter object at 0x7fea4c86ebe0>}\n",
            "2019-10-17 17:56:51,667\tINFO multi_gpu_optimizer.py:93 -- LocalMultiGPUOptimizer devices ['/cpu:0']\n",
            "2019-10-17 17:57:02,494\tINFO trainable.py:102 -- _setup took 12.290 seconds. If your trainable is slow to initialize, consider setting reuse_actors=True to reduce actor creation overheads.\n",
            "2019-10-17 17:57:02,505\tWARNING util.py:45 -- Install gputil for GPU system monitoring.\n"
          ],
          "name": "stderr"
        }
      ]
    },
    {
      "cell_type": "markdown",
      "metadata": {
        "colab_type": "text",
        "id": "64FmVP7kNlh_"
      },
      "source": [
        "**EXERCISE:** Train the agent and try to get a reward of 200. If it's training too slowly you may need to modify the config above to use fewer hidden units, a larger `sgd_minibatch_size`, a smaller `num_sgd_iter`, or a larger `num_workers`.\n",
        "\n",
        "This should take around 20 or 30 training iterations."
      ]
    },
    {
      "cell_type": "code",
      "metadata": {
        "colab_type": "code",
        "id": "XB7sdKUzNliA",
        "outputId": "9def8b03-ade8-4a3a-eed4-6d2d1719bcb1",
        "colab": {
          "base_uri": "https://localhost:8080/",
          "height": 1000
        }
      },
      "source": [
        "for i in range(2):\n",
        "    result = agent.train()\n",
        "    print(pretty_print(result))"
      ],
      "execution_count": 0,
      "outputs": [
        {
          "output_type": "stream",
          "text": [
            "custom_metrics: {}\n",
            "date: 2019-10-17_17-57-18\n",
            "done: false\n",
            "episode_len_mean: 21.87292817679558\n",
            "episode_reward_max: 67.0\n",
            "episode_reward_mean: 21.87292817679558\n",
            "episode_reward_min: 8.0\n",
            "episodes_this_iter: 181\n",
            "episodes_total: 181\n",
            "experiment_id: b4f3442f90b64f319adc97c1ab89487e\n",
            "hostname: dfdd5ae0844a\n",
            "info:\n",
            "  grad_time_ms: 1453.591\n",
            "  learner:\n",
            "    default_policy:\n",
            "      cur_kl_coeff: 0.20000000298023224\n",
            "      cur_lr: 4.999999873689376e-05\n",
            "      entropy: 0.6715409159660339\n",
            "      entropy_coeff: 0.0\n",
            "      kl: 0.022996434941887856\n",
            "      policy_loss: -0.03003411367535591\n",
            "      total_loss: 247.77706909179688\n",
            "      vf_explained_var: 1.2256205081939697e-05\n",
            "      vf_loss: 247.802490234375\n",
            "  load_time_ms: 103.759\n",
            "  num_steps_sampled: 4000\n",
            "  num_steps_trained: 4000\n",
            "  sample_time_ms: 4126.344\n",
            "  update_time_ms: 1295.654\n",
            "iterations_since_restore: 1\n",
            "node_ip: 172.28.0.2\n",
            "num_healthy_workers: 3\n",
            "off_policy_estimator: {}\n",
            "perf:\n",
            "  cpu_util_percent: 61.1\n",
            "  ram_util_percent: 15.208695652173919\n",
            "pid: 226\n",
            "policy_reward_max: {}\n",
            "policy_reward_mean: {}\n",
            "policy_reward_min: {}\n",
            "sampler_perf:\n",
            "  mean_env_wait_ms: 0.13133001231806737\n",
            "  mean_inference_ms: 2.3879615304762742\n",
            "  mean_processing_ms: 0.33755403302321857\n",
            "time_since_restore: 7.09158730506897\n",
            "time_this_iter_s: 7.09158730506897\n",
            "time_total_s: 7.09158730506897\n",
            "timestamp: 1571335038\n",
            "timesteps_since_restore: 4000\n",
            "timesteps_this_iter: 4000\n",
            "timesteps_total: 4000\n",
            "training_iteration: 1\n",
            "\n",
            "custom_metrics: {}\n",
            "date: 2019-10-17_17-57-22\n",
            "done: false\n",
            "episode_len_mean: 35.1578947368421\n",
            "episode_reward_max: 119.0\n",
            "episode_reward_mean: 35.1578947368421\n",
            "episode_reward_min: 9.0\n",
            "episodes_this_iter: 114\n",
            "episodes_total: 295\n",
            "experiment_id: b4f3442f90b64f319adc97c1ab89487e\n",
            "hostname: dfdd5ae0844a\n",
            "info:\n",
            "  grad_time_ms: 1207.428\n",
            "  learner:\n",
            "    default_policy:\n",
            "      cur_kl_coeff: 0.30000001192092896\n",
            "      cur_lr: 4.999999873689376e-05\n",
            "      entropy: 0.6431934833526611\n",
            "      entropy_coeff: 0.0\n",
            "      kl: 0.011597095057368279\n",
            "      policy_loss: -0.01648213341832161\n",
            "      total_loss: 557.7356567382812\n",
            "      vf_explained_var: 0.0011533349752426147\n",
            "      vf_loss: 557.7486572265625\n",
            "  load_time_ms: 52.831\n",
            "  num_steps_sampled: 8000\n",
            "  num_steps_trained: 8000\n",
            "  sample_time_ms: 3880.399\n",
            "  update_time_ms: 652.466\n",
            "iterations_since_restore: 2\n",
            "node_ip: 172.28.0.2\n",
            "num_healthy_workers: 3\n",
            "off_policy_estimator: {}\n",
            "perf:\n",
            "  cpu_util_percent: 94.64285714285714\n",
            "  ram_util_percent: 15.099999999999998\n",
            "pid: 226\n",
            "policy_reward_max: {}\n",
            "policy_reward_mean: {}\n",
            "policy_reward_min: {}\n",
            "sampler_perf:\n",
            "  mean_env_wait_ms: 0.12941979862515438\n",
            "  mean_inference_ms: 2.3058619632924384\n",
            "  mean_processing_ms: 0.3253235000564248\n",
            "time_since_restore: 11.712530136108398\n",
            "time_this_iter_s: 4.620942831039429\n",
            "time_total_s: 11.712530136108398\n",
            "timestamp: 1571335042\n",
            "timesteps_since_restore: 8000\n",
            "timesteps_this_iter: 4000\n",
            "timesteps_total: 8000\n",
            "training_iteration: 2\n",
            "\n"
          ],
          "name": "stdout"
        }
      ]
    },
    {
      "cell_type": "markdown",
      "metadata": {
        "colab_type": "text",
        "id": "PW6bN9CYNliB"
      },
      "source": [
        "Checkpoint the current model. The call to `agent.save()` returns the path to the checkpointed model and can be used later to restore the model."
      ]
    },
    {
      "cell_type": "code",
      "metadata": {
        "colab_type": "code",
        "id": "6uf808LMNliC",
        "colab": {}
      },
      "source": [
        "checkpoint_path = agent.save()\n",
        "print(checkpoint_path)"
      ],
      "execution_count": 0,
      "outputs": []
    },
    {
      "cell_type": "markdown",
      "metadata": {
        "colab_type": "text",
        "id": "05icI8bfNliD"
      },
      "source": [
        "Now let's use the trained policy to make predictions.\n",
        "\n",
        "**NOTE:** Here we are loading the trained policy in the same process, but in practice, this would often be done in a different process (probably on a different machine)."
      ]
    },
    {
      "cell_type": "code",
      "metadata": {
        "colab_type": "code",
        "id": "8Qq2_AYVNliE",
        "colab": {}
      },
      "source": [
        "trained_config = config.copy()\n",
        "\n",
        "test_agent = PPOTrainer(trained_config, 'CartPole-v0')\n",
        "test_agent.restore(checkpoint_path)"
      ],
      "execution_count": 0,
      "outputs": []
    },
    {
      "cell_type": "markdown",
      "metadata": {
        "colab_type": "text",
        "id": "c2gUUlqkNliG"
      },
      "source": [
        "Now use the trained policy to act in an environment. The key line is the call to `test_agent.compute_action(state)` which uses the trained policy to choose an action.\n",
        "\n",
        "**EXERCISE:** Verify that the reward received roughly matches up with the reward printed in the training logs."
      ]
    },
    {
      "cell_type": "code",
      "metadata": {
        "colab_type": "code",
        "id": "9asL5Z5lNliH",
        "colab": {}
      },
      "source": [
        "env = gym.make('CartPole-v0')\n",
        "state = env.reset()\n",
        "done = False\n",
        "cumulative_reward = 0\n",
        "\n",
        "while not done:\n",
        "    action = test_agent.compute_action(state)\n",
        "    state, reward, done, _ = env.step(action)\n",
        "    cumulative_reward += reward\n",
        "\n",
        "print(cumulative_reward)"
      ],
      "execution_count": 0,
      "outputs": []
    },
    {
      "cell_type": "markdown",
      "metadata": {
        "colab_type": "text",
        "id": "iB1ORu-yNliJ"
      },
      "source": [
        "# RLlib Exercise 2 - Custom Environments and Reward Shaping\n",
        "\n",
        "**GOAL:** The goal of this exercise is to demonstrate how to adapt your own problem to use RLlib.\n",
        "\n",
        "To understand how to use **RLlib**, see the documentation at http://rllib.io.\n",
        "\n",
        "RLlib is not only easy to use in simulated benchmarks but also in the real-world. Here, we will cover two important concepts: how to create your own Markov Decision Process abstraction, and how to shape the reward of your environment so make your agent more effective. "
      ]
    },
    {
      "cell_type": "code",
      "metadata": {
        "colab_type": "code",
        "id": "Csnr34cnNliK",
        "colab": {}
      },
      "source": [
        "from __future__ import absolute_import\n",
        "from __future__ import division\n",
        "from __future__ import print_function\n",
        "\n",
        "import gym\n",
        "from gym import spaces\n",
        "import numpy as np\n",
        "from tutorial.rllib_exercises import test_exercises\n",
        "\n",
        "import ray\n",
        "from ray.rllib.agents.ppo import PPOTrainer, DEFAULT_CONFIG\n",
        "\n",
        "ray.init(ignore_reinit_error=True, log_to_driver=False)"
      ],
      "execution_count": 0,
      "outputs": []
    },
    {
      "cell_type": "markdown",
      "metadata": {
        "colab_type": "text",
        "id": "Wg0Xb06MNliM"
      },
      "source": [
        "## 1. Different Spaces\n",
        "\n",
        "The first thing to do when formulating an RL problem is to specify the dimensions of your observation space and action space. Abstractions for these are provided in ``gym``. \n",
        "\n",
        "### **Exercise 1:** Match different actions to their corresponding space.\n",
        "\n",
        "The purpose of this exercise is to familiarize you with different Gym spaces. For example:\n",
        "\n",
        "    discrete = spaces.Discrete(10)\n",
        "    print(\"Random sample of this space: \", [discrete.sample() for i in range(4)])\n",
        "\n",
        "Use `help(spaces)` or `help([specific space])` (i.e., `help(spaces.Discrete)`) for more info."
      ]
    },
    {
      "cell_type": "code",
      "metadata": {
        "colab_type": "code",
        "id": "7RfODlKgNliM",
        "colab": {}
      },
      "source": [
        "action_space_map = {\n",
        "    \"discrete_10\": spaces.Discrete(10),\n",
        "    \"box_1\": spaces.Box(0, 1, shape=(1,)),\n",
        "    \"box_3x1\": spaces.Box(-2, 2, shape=(3, 1)),\n",
        "    \"multi_discrete\": spaces.MultiDiscrete([ 5, 2, 2, 4 ])\n",
        "}\n",
        "\n",
        "action_space_jumble = {\n",
        "    \"discrete_10\": 1,\n",
        "    \"CHANGE_ME\": np.array([0, 0, 0, 2]),\n",
        "    \"CHANGE_ME\": np.array([[-1.2657754], [-1.6528835], [ 0.5982418]]),\n",
        "    \"CHANGE_ME\": np.array([0.89089584]),\n",
        "}\n",
        "\n",
        "\n",
        "for space_id, state in action_space_jumble.items():\n",
        "    assert action_space_map[space_id].contains(state), (\n",
        "        \"Looks like {} to {} is matched incorrectly.\".format(space_id, state))\n",
        "    \n",
        "print(\"Success!\")"
      ],
      "execution_count": 0,
      "outputs": []
    },
    {
      "cell_type": "markdown",
      "metadata": {
        "colab_type": "text",
        "id": "l9rrsSmsNliO"
      },
      "source": [
        "## **Exercise 2**: Setting up a custom environment with rewards\n",
        "\n",
        "We'll setup an `n-Chain` environment, which presents moves along a linear chain of states, with two actions:\n",
        "\n",
        "     (0) forward, which moves along the chain but returns no reward\n",
        "     (1) backward, which returns to the beginning and has a small reward\n",
        "\n",
        "The end of the chain, however, presents a large reward, and by moving 'forward', at the end of the chain this large reward can be repeated.\n",
        "\n",
        "#### Step 1: Implement ``ChainEnv._setup_spaces``\n",
        "\n",
        "We'll use a `spaces.Discrete` action space and observation space. Implement `ChainEnv._setup_spaces` so that `self.action_space` and `self.obseration_space` are proper gym spaces.\n",
        "  \n",
        "1. Observation space is an integer in ``[0 to n-1]``.\n",
        "2. Action space is an integer in ``[0, 1]``.\n",
        "\n",
        "For example:\n",
        "\n",
        "```python\n",
        "    self.action_space = spaces.Discrete(2)\n",
        "    self.observation_space = ...\n",
        "```\n",
        "\n",
        "You should see a message indicating tests passing when done correctly!\n",
        "\n",
        "#### Step 2: Implement a reward function.\n",
        "\n",
        "When `env.step` is called, it returns a tuple of ``(state, reward, done, info)``. Right now, the reward is always 0. \n",
        "\n",
        "Implement it so that \n",
        "\n",
        "1. ``action == 1`` will return `self.small_reward`.\n",
        "2. ``action == 0`` will return 0 if `self.state < self.n - 1`.\n",
        "3. ``action == 0`` will return `self.large_reward` if `self.state == self.n - 1`.\n",
        "\n",
        "You should see a message indicating tests passing when done correctly. "
      ]
    },
    {
      "cell_type": "code",
      "metadata": {
        "colab_type": "code",
        "id": "SFpjKjqTNliO",
        "colab": {}
      },
      "source": [
        "class ChainEnv(gym.Env):\n",
        "    \n",
        "    def __init__(self, env_config = None):\n",
        "        env_config = env_config or {}\n",
        "        self.n = env_config.get(\"n\", 20)\n",
        "        self.small_reward = env_config.get(\"small\", 2)  # payout for 'backwards' action\n",
        "        self.large_reward = env_config.get(\"large\", 10)  # payout at end of chain for 'forwards' action\n",
        "        self.state = 0  # Start at beginning of the chain\n",
        "        self._horizon = self.n\n",
        "        self._counter = 0  # For terminating the episode\n",
        "        self._setup_spaces()\n",
        "    \n",
        "    def _setup_spaces(self):\n",
        "        ##############\n",
        "        # TODO: Implement this so that it passes tests\n",
        "        self.action_space = None\n",
        "        self.observation_space = None\n",
        "        ##############\n",
        "\n",
        "    def step(self, action):\n",
        "        assert self.action_space.contains(action)\n",
        "        if action == 1:  # 'backwards': go back to the beginning, get small reward\n",
        "            ##############\n",
        "            # TODO 2: Implement this so that it passes tests\n",
        "            reward = -1\n",
        "            ##############\n",
        "            self.state = 0\n",
        "        elif self.state < self.n - 1:  # 'forwards': go up along the chain\n",
        "            ##############\n",
        "            # TODO 2: Implement this so that it passes tests\n",
        "            reward = -1\n",
        "            self.state += 1\n",
        "        else:  # 'forwards': stay at the end of the chain, collect large reward\n",
        "            ##############\n",
        "            # TODO 2: Implement this so that it passes tests\n",
        "            reward = -1\n",
        "            ##############\n",
        "        self._counter += 1\n",
        "        done = self._counter >= self._horizon\n",
        "        return self.state, reward, done, {}\n",
        "\n",
        "    def reset(self):\n",
        "        self.state = 0\n",
        "        self._counter = 0\n",
        "        return self.state\n",
        "    \n",
        "# Tests here:\n",
        "test_exercises.test_chain_env_spaces(ChainEnv)\n",
        "test_exercises.test_chain_env_reward(ChainEnv)"
      ],
      "execution_count": 0,
      "outputs": []
    },
    {
      "cell_type": "markdown",
      "metadata": {
        "colab_type": "text",
        "id": "yqMJtzLNNliQ"
      },
      "source": [
        "### Now let's train a policy on the environment and evaluate this policy on our environment.\n",
        "\n",
        "You'll see that despite an extremely high reward, the policy has barely explored the state space."
      ]
    },
    {
      "cell_type": "code",
      "metadata": {
        "colab_type": "code",
        "id": "FyXbhXoANliQ",
        "colab": {}
      },
      "source": [
        "trainer_config = DEFAULT_CONFIG.copy()\n",
        "trainer_config['num_workers'] = 1\n",
        "trainer_config[\"train_batch_size\"] = 400\n",
        "trainer_config[\"sgd_minibatch_size\"] = 64\n",
        "trainer_config[\"num_sgd_iter\"] = 10"
      ],
      "execution_count": 0,
      "outputs": []
    },
    {
      "cell_type": "code",
      "metadata": {
        "colab_type": "code",
        "id": "uoNYqFPcNliS",
        "colab": {}
      },
      "source": [
        "trainer = PPOTrainer(trainer_config, ChainEnv);\n",
        "for i in range(20):\n",
        "    print(\"Training iteration {}...\".format(i))\n",
        "    trainer.train()"
      ],
      "execution_count": 0,
      "outputs": []
    },
    {
      "cell_type": "code",
      "metadata": {
        "colab_type": "code",
        "id": "nP6xXGNONliT",
        "colab": {}
      },
      "source": [
        "env = ChainEnv({})\n",
        "state = env.reset()\n",
        "\n",
        "done = False\n",
        "max_state = -1\n",
        "cumulative_reward = 0\n",
        "\n",
        "while not done:\n",
        "    action = trainer.compute_action(state)\n",
        "    state, reward, done, results = env.step(action)\n",
        "    max_state = max(max_state, state)\n",
        "    cumulative_reward += reward\n",
        "\n",
        "print(\"Cumulative reward you've received is: {}. Congratulations!\".format(cumulative_reward))\n",
        "print(\"Max state you've visited is: {}. This is out of {} states.\".format(max_state, env.n))"
      ],
      "execution_count": 0,
      "outputs": []
    },
    {
      "cell_type": "markdown",
      "metadata": {
        "colab_type": "text",
        "id": "nbdppkbENliV"
      },
      "source": [
        "## Exercise 3: Shaping the reward to encourage proper behavior.\n",
        "\n",
        "You'll see that despite an extremely high reward, the policy has barely explored the state space. This is often the situation - where the reward designed to encourage a particular solution is suboptimal, and the behavior created is unintended.\n",
        "\n",
        "#### Modify `ShapedChainEnv.step` to provide a reward that encourages the policy to traverse the chain (not just stick to 0). Do not change the behavior of the environment (the action -> state behavior should be the same).\n",
        "\n",
        "You can change the reward to be whatever you wish."
      ]
    },
    {
      "cell_type": "code",
      "metadata": {
        "colab_type": "code",
        "id": "PfyPqX1ZNliV",
        "colab": {}
      },
      "source": [
        "class ShapedChainEnv(ChainEnv):\n",
        "    def step(self, action):\n",
        "        assert self.action_space.contains(action)\n",
        "        if action == 1:  # 'backwards': go back to the beginning\n",
        "            reward = -1\n",
        "            self.state = 0\n",
        "        elif self.state < self.n - 1:  # 'forwards': go up along the chain\n",
        "            reward = -1\n",
        "            self.state += 1\n",
        "        else:  # 'forwards': stay at the end of the chain\n",
        "            reward = -1\n",
        "        self._counter += 1\n",
        "        done = self._counter >= self._horizon\n",
        "        return self.state, reward, done, {}\n",
        "    \n",
        "test_exercises.test_chain_env_behavior(ShapedChainEnv)"
      ],
      "execution_count": 0,
      "outputs": []
    },
    {
      "cell_type": "markdown",
      "metadata": {
        "colab_type": "text",
        "id": "ty6H4MffNliW"
      },
      "source": [
        "### Evaluate `ShapedChainEnv` by running the cell below.\n",
        "\n",
        "This trains PPO on the new env and counts the number of states seen."
      ]
    },
    {
      "cell_type": "code",
      "metadata": {
        "colab_type": "code",
        "id": "8U6GkAO6NliX",
        "colab": {}
      },
      "source": [
        "trainer = PPOTrainer(trainer_config, ShapedChainEnv);\n",
        "for i in range(20):\n",
        "    print(\"Training iteration {}...\".format(i))\n",
        "    trainer.train()\n",
        "\n",
        "env = ShapedChainEnv({})\n",
        "\n",
        "max_states = []\n",
        "\n",
        "for i in range(5):\n",
        "    state = env.reset()\n",
        "    done = False\n",
        "    max_state = -1\n",
        "    cumulative_reward = 0\n",
        "    while not done:\n",
        "        action = trainer.compute_action(state)\n",
        "        state, reward, done, results = env.step(action)\n",
        "        max_state = max(max_state, state)\n",
        "        cumulative_reward += reward\n",
        "    max_states += [max_state]\n",
        "\n",
        "print(\"Cumulative reward you've received is: {}!\".format(cumulative_reward))\n",
        "print(\"Max state you've visited is: {}. This is out of {} states.\".format(np.mean(max_state), env.n))\n",
        "assert (env.n - np.mean(max_state)) / env.n < 0.2, \"This policy did not traverse many states.\""
      ],
      "execution_count": 0,
      "outputs": []
    },
    {
      "cell_type": "code",
      "metadata": {
        "colab_type": "code",
        "id": "Sj5ynpINNliZ",
        "colab": {}
      },
      "source": [
        ""
      ],
      "execution_count": 0,
      "outputs": []
    }
  ]
}